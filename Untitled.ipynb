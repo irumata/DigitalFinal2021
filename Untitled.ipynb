{
 "cells": [
  {
   "cell_type": "code",
   "execution_count": 99,
   "id": "e81bb4ee-33a8-47d3-b3fc-c85de3c3583d",
   "metadata": {},
   "outputs": [
    {
     "name": "stdout",
     "output_type": "stream",
     "text": [
      "solutions/ЭЛБИУС Тринити ['Заявка_ЭЛБИУС Тринити.docx', 'tag.txt']\n",
      "solutions/VizorLabs ['tag.txt', 'Заявка_VizorLabs.docx']\n",
      "solutions/Ориент Системс ['Заявка_Ориент Системс.docx', 'tag.txt']\n",
      "solutions/Edge Vision ['Заявка_Edge Vision.docx', 'tag.txt']\n",
      "solutions/IDX ['Заявка_IDX.docx', 'tag.txt']\n",
      "solutions/Компания НЕИРОН ['tag.txt', 'Заявка_Компания НЕЙРОН.docx']\n",
      "solutions/VOLT2GO ['tag.txt', 'Заявка_VOLT2GO.docx']\n",
      "solutions/Traffic Data ['tag.txt', 'Заявка_Traffic Data.docx']\n",
      "solutions/Statanly Technologies ['Заявка_Statanly Technologies.docx', 'tag.txt']\n",
      "solutions/ПРОМЭНЕРГОРЕСУРС ['tag.txt', 'Заявка_ПРОМЭНЕРГОРЕСУРС.docx']\n",
      "solutions/ZoomTalent ['tag.txt', 'Заявка_ZoomTalent.docx']\n",
      "solutions/ЦФТ Базис ['Заявка_ЦФТ Базис.docx', 'tag.txt']\n",
      "solutions/SmartTwin Green ['Заявка_SmartTwin Green.docx', 'tag.txt']\n",
      "solutions/Climate Guard ['Заявка_Climate Guard.docx', 'tag.txt']\n",
      "solutions/WEI ['tag.txt', 'Заявка_WEI.docx']\n",
      "solutions/Six Quarks ['tag.txt', 'Заявка_Six Quarks.docx']\n",
      "solutions/pilots ['.DS_Store']\n",
      "skip\n",
      "solutions/__MACOSX ['._pilots', 'pilots']\n",
      "skip\n",
      "solutions/УКФ ['tag.txt', 'Заявка_УКФ.docx']\n",
      "solutions/Модульные Системы Управления ['Заявка_Модульные Системы Управления.docx', 'tag.txt']\n",
      "solutions/KS2Vision ['Заявка_KS2Vision.docx', 'tag.txt']\n",
      "solutions/МФА ТЕХ ['Заявка_МФА ТЕХ.docx', 'tag.txt']\n",
      "solutions/Аффинум ['Заявка_Аффинум.docx', 'tag.txt']\n",
      "solutions/Titan Power Solution ['Заявка_Titan Power Solution.docx', 'tag.txt']\n",
      "solutions/iCrosswalk ['Заявка_iCrosswalk.docx', 'tag.txt']\n",
      "solutions/EvoAvatar ['tag.txt', 'Заявка_EvoAvatar.docx']\n",
      "solutions/BrainVision ['Заявка_BrainVision.docx', 'tag.txt']\n",
      "solutions/BIOSMART ['Заявка_BIOSMART.docx', 'tag.txt']\n",
      "solutions/AugmentIT ['Заявка_AugmentIT .docx', 'tag.txt']\n"
     ]
    },
    {
     "data": {
      "text/plain": [
       "['data.j']"
      ]
     },
     "execution_count": 99,
     "metadata": {},
     "output_type": "execute_result"
    }
   ],
   "source": [
    "import docx\n",
    "from docx import Document\n",
    "from docx.table import _Cell\n",
    "\n",
    "import pandas as pd\n",
    "\n",
    "import os\n",
    "kelly_colors_hex = [\n",
    "    \"#FFB300\", # Vivid Yellow\n",
    "    \"#803E75\", # Strong Purple\n",
    "    \"#FF6800\", # Vivid Orange\n",
    "    \"#A6BDD7\", # Very Light Blue\n",
    "    \"#C10020\", # Vivid Red\n",
    "    \"#CEA262\", # Grayish Yellow\n",
    "    \"#817066\", # Medium Gray\n",
    "\n",
    "    # The following don't work well for people with defective color vision\n",
    "    \"#007D34\", # Vivid Green\n",
    "    \"#F6768E\", # Strong Purplish Pink\n",
    "    \"#00538A\", # Strong Blue\n",
    "    \"#FF7A5C\", # Strong Yellowish Pink\n",
    "    \"#53377A\", # Strong Violet\n",
    "    \"#FF8E00\", # Vivid Orange Yellow\n",
    "    \"#B32851\", # Strong Purplish Red\n",
    "    \"#F4C800\", # Vivid Greenish Yellow\n",
    "    \"#7F180D\", # Strong Reddish Brown\n",
    "    \"#93AA00\", # Vivid Yellowish Green\n",
    "    \"#593315\", # Deep Yellowish Brown\n",
    "    \"#F13A13\", # Vivid Reddish Orange\n",
    "    \"#232C16\", # Dark Olive Green\n",
    "    ]\n",
    "file_names = os.listdir(f\"solutions/\")\n",
    "\n",
    "files = {}\n",
    "res_ds = pd.DataFrame()\n",
    "for file in file_names:\n",
    "        filepath = f\"solutions/{file}\"\n",
    "        if not os.path.isdir(filepath):\n",
    "            continue\n",
    "        \n",
    "        proj_files = os.listdir(filepath)\n",
    "        print(filepath, proj_files)\n",
    "        doc_file = [f  for f in proj_files if \"docx\" in f]\n",
    "        if len(doc_file)<1:\n",
    "            print(\"skip\")\n",
    "            continue\n",
    "        doc_file = doc_file[0]\n",
    "        doc_filepath = f\"{filepath}/{doc_file}\"\n",
    "        try:\n",
    "            document = Document(doc_filepath)\n",
    "        except:\n",
    "            print(\"PROBLEM IN FILE \",doc_filepath)\n",
    "        full_text = []\n",
    "        for para in document.paragraphs:\n",
    "            full_text.append(para.text)\n",
    "        full_text = '\\n'.join(full_text)\n",
    "        files[file] = {}\n",
    "        files[file][\"text\"]=full_text\n",
    "        files[file][\"tables\"]=document.tables\n",
    "        table = document.tables[0]\n",
    "        #files[list(files.keys())[0]][\"tables\"][0]\n",
    "        sol_dict = {}\n",
    "        for rowIndex, row in enumerate(table.rows):\n",
    "                cols = []\n",
    "                for columnIndex, value in enumerate([_Cell(tc, table) \n",
    "                                                     for tc in row._tr.tc_lst]):\n",
    "                    cols.append(value.text)\n",
    "                sol_dict[cols[0].split(\"*\")[0].strip().lower()] = [cols[1]]\n",
    "        sol_dict[\"Имя\"]=file.lower().replace(\" \",\"_\").strip()\n",
    "        res_ds = pd.concat([res_ds,pd.DataFrame(sol_dict)])\n",
    "teg_list = \",\".join(res_ds[\"тэг\"]).replace(\"/\",\",\").split(\",\")\n",
    "teg_list = list(set([t.strip() for t in teg_list]))\n",
    "teg_list\n",
    "\n",
    "color_list = {t:kelly_colors_hex[i] for i,t in enumerate(teg_list)}\n",
    "\n",
    "for t in teg_list:\n",
    "\n",
    "    res_ds[t] = res_ds[\"тэг\"].apply(lambda x: t in x)\n",
    "import joblib\n",
    "joblib.dump((res_ds,color_list),\"data.j\",compress=0)"
   ]
  },
  {
   "cell_type": "code",
   "execution_count": 2,
   "id": "04fcd906-583e-42d6-8afd-7bf6a4b5ab85",
   "metadata": {},
   "outputs": [
    {
     "data": {
      "text/plain": [
       "Index(['наименование команды/организации', 'стадия готовности продукта',\n",
       "       'краткое описание продукта', 'польза продукта',\n",
       "       'организация московского транспорта, интересная в первую очередь',\n",
       "       'запрос к акселератору и видение пилотного проекта',\n",
       "       'требуется ли сертификация продукта', 'фио контактного лица по заявке',\n",
       "       'должность контактного лица', 'контактный телефон', 'контактная почта',\n",
       "       'наименование юридического лица', 'инн юридического лица',\n",
       "       'сколько человек в организации', 'сайт',\n",
       "       'откуда узнали про акселератор', 'ссылка на презентацию', 'тэг', 'Имя',\n",
       "       'Цифровизация', 'AR', 'Разработка', 'VR', 'ML', 'CV', 'unknown', 'AI',\n",
       "       'Цифровой двойник', 'OCR', 'IOT'],\n",
       "      dtype='object')"
      ]
     },
     "execution_count": 2,
     "metadata": {},
     "output_type": "execute_result"
    }
   ],
   "source": [
    "res_ds.columns"
   ]
  },
  {
   "cell_type": "code",
   "execution_count": 3,
   "id": "ed53191b-2324-4f7a-a8cb-bd0c05a16dff",
   "metadata": {},
   "outputs": [
    {
     "data": {
      "text/plain": [
       "'tag1:Цифровые технологии в транспорте\\r\\ntag2:CV'"
      ]
     },
     "execution_count": 3,
     "metadata": {},
     "output_type": "execute_result"
    }
   ],
   "source": [
    "import codecs\n",
    "file = \"solutions/BrainVision/tag.txt\"\n",
    "f1 = codecs.open(\"solutions/BrainVision/tag.txt\", \"rb\",'cp1251')\n",
    "text = f1.read()\n",
    "text"
   ]
  },
  {
   "cell_type": "code",
   "execution_count": 4,
   "id": "0021f8b2-17b6-4b87-a53e-ee766eeff573",
   "metadata": {},
   "outputs": [
    {
     "data": {
      "text/plain": [
       "'tag1:Цифровые технологии в транспорте\\r\\ntag2:CV'"
      ]
     },
     "execution_count": 4,
     "metadata": {},
     "output_type": "execute_result"
    }
   ],
   "source": [
    "import chardet    \n",
    "rawdata = open(file, \"rb\").read()\n",
    "result = chardet.detect(rawdata)\n",
    "charenc = result['encoding']\n",
    "f1 = codecs.open(file, \"rb\",charenc).read()\n",
    "f1\n",
    "\n"
   ]
  },
  {
   "cell_type": "code",
   "execution_count": 5,
   "id": "5b409f68-8755-4207-9f13-6c46209583bd",
   "metadata": {},
   "outputs": [],
   "source": [
    "import re\n",
    "for i,row in enumerate(res_ds.iterrows()):\n",
    "    r = dict(row[1])\n",
    "    break\n"
   ]
  },
  {
   "cell_type": "code",
   "execution_count": 16,
   "id": "1ce963a4-27b1-4b4f-afc5-4cad8ef48603",
   "metadata": {},
   "outputs": [
    {
     "name": "stdout",
     "output_type": "stream",
     "text": [
      "200 {'VizorLabs': 1.6753337383, 'KS2Vision': 1.7755773067, 'Climate Guard': 1.8048996925, 'BrainVision': 1.8053376675, 'AugmentIT': 1.8140375614, 'ПРОМЭНЕРГОРЕСУРС': 1.8471496105, 'SmartTwin Green': 1.8556716442, 'iCrosswalk': 1.8596777916, 'IDX': 1.8623862267, 'Компания НЕЙРОН': 1.8728598356}\n"
     ]
    }
   ],
   "source": [
    "import json\n",
    "import requests\n",
    "\n",
    "api_url = 'http://31.134.186.2:5000/search'\n",
    "\n",
    "req = {'top_n': '10', \n",
    "       'max_dist': '3',\n",
    "       'request':'контроль опасных зон'}\n",
    "\n",
    "r = requests.post(url=api_url, json=req)\n",
    "result = json.loads(r.text)\n",
    "print(r.status_code, result)"
   ]
  },
  {
   "cell_type": "code",
   "execution_count": 21,
   "id": "77ff2474-8377-44d1-b2c9-bbb7ff6b6c0f",
   "metadata": {
    "tags": []
   },
   "outputs": [
    {
     "data": {
      "text/plain": [
       "[('AugmentIT', 1.8140375614),\n",
       " ('BrainVision', 1.8053376675),\n",
       " ('Climate Guard', 1.8048996925),\n",
       " ('IDX', 1.8623862267),\n",
       " ('KS2Vision', 1.7755773067),\n",
       " ('SmartTwin Green', 1.8556716442),\n",
       " ('VizorLabs', 1.6753337383),\n",
       " ('iCrosswalk', 1.8596777916),\n",
       " ('Компания НЕЙРОН', 1.8728598356),\n",
       " ('ПРОМЭНЕРГОРЕСУРС', 1.8471496105)]"
      ]
     },
     "execution_count": 21,
     "metadata": {},
     "output_type": "execute_result"
    }
   ],
   "source": []
  },
  {
   "cell_type": "code",
   "execution_count": 103,
   "id": "f0878f30-a3bf-4b4c-8084-da8e8ccc81f1",
   "metadata": {},
   "outputs": [
    {
     "name": "stdout",
     "output_type": "stream",
     "text": [
      "VizorLabs 1.6753337383\n",
      "KS2Vision 1.7755773067\n",
      "Climate Guard 1.8048996925\n",
      "BrainVision 1.8053376675\n",
      "AugmentIT 1.8140375614\n",
      "ПРОМЭНЕРГОРЕСУРС 1.8471496105\n",
      "SmartTwin Green 1.8556716442\n",
      "iCrosswalk 1.8596777916\n",
      "IDX 1.8623862267\n",
      "Компания НЕЙРОН 1.8728598356\n"
     ]
    }
   ],
   "source": [
    "all_items = sorted(result.items(),key=lambda x: x[1])\n",
    "for name, rat in all_items:\n",
    "    print(name,rat)"
   ]
  },
  {
   "cell_type": "code",
   "execution_count": 9,
   "id": "bae4fbd9-a2dc-4696-846b-ddaa13de293e",
   "metadata": {},
   "outputs": [],
   "source": [
    "# import requests\n",
    "  \n",
    "# # Making a get request\n",
    "# response = requests.get('http://127.0.0.1:5000/grab/visorlabs')\n",
    "  \n",
    "# # print response\n",
    "# print(response, response.text)"
   ]
  },
  {
   "cell_type": "code",
   "execution_count": 10,
   "id": "8e19e858-639c-4297-b126-0f6720983a9e",
   "metadata": {},
   "outputs": [
    {
     "ename": "NameError",
     "evalue": "name 'response' is not defined",
     "output_type": "error",
     "traceback": [
      "\u001b[0;31m---------------------------------------------------------------------------\u001b[0m",
      "\u001b[0;31mNameError\u001b[0m                                 Traceback (most recent call last)",
      "\u001b[0;32m<ipython-input-10-879e7a66eabf>\u001b[0m in \u001b[0;36m<module>\u001b[0;34m\u001b[0m\n\u001b[0;32m----> 1\u001b[0;31m \u001b[0mdisplay\u001b[0m\u001b[0;34m(\u001b[0m\u001b[0mresponse\u001b[0m\u001b[0;34m.\u001b[0m\u001b[0mtext\u001b[0m\u001b[0;34m)\u001b[0m\u001b[0;34m\u001b[0m\u001b[0;34m\u001b[0m\u001b[0m\n\u001b[0m",
      "\u001b[0;31mNameError\u001b[0m: name 'response' is not defined"
     ]
    }
   ],
   "source": [
    "display(response.text)"
   ]
  },
  {
   "cell_type": "code",
   "execution_count": 12,
   "id": "2793a7c9-1996-4245-a73f-b5cd158fe5bf",
   "metadata": {},
   "outputs": [
    {
     "data": {
      "text/plain": [
       "'Компания «Сател» объединилась с VizorLabs: Компания «Сател» - одна из ведущих IT-компаний, работающая на рынке интеграции, а VisorLabs – один из ведущих поставщиков решений на рынке РФ в области систем видеоаналитики.;\\nКакие цифровые технологии помогут предотвратить новый Чернобыль: К тому же длительность концентрации внимания диспетчера, как отмечают в VisorLabs, обычно не превышает 30 минут. В итоге разбор нарушений чаще всего происходит постфактум...;\\nЗаработал первый цифровой кластер для FMCG-бизнеса с консалтингом и 70 сервисами: ...ABBYY, PIХ Robotics, «Первый Бит», Cleverence, Grotem, «Скаут — Корпоративные решения», Varwin, AutoFAQ, Novo BI, Virto Commerce, Intelligence Retail, VisorLabs, «Инфобот».;\\n'"
      ]
     },
     "execution_count": 14,
     "metadata": {},
     "output_type": "execute_result"
    }
   ],
   "source": [
    "import sc\n",
    "sc.search_info(\"visorlabs \")"
   ]
  },
  {
   "cell_type": "code",
   "execution_count": 98,
   "id": "a7526920-8420-4050-bf41-1548515b7e57",
   "metadata": {},
   "outputs": [
    {
     "data": {
      "text/html": [
       "<div>\n",
       "<style scoped>\n",
       "    .dataframe tbody tr th:only-of-type {\n",
       "        vertical-align: middle;\n",
       "    }\n",
       "\n",
       "    .dataframe tbody tr th {\n",
       "        vertical-align: top;\n",
       "    }\n",
       "\n",
       "    .dataframe thead th {\n",
       "        text-align: right;\n",
       "    }\n",
       "</style>\n",
       "<table border=\"1\" class=\"dataframe\">\n",
       "  <thead>\n",
       "    <tr style=\"text-align: right;\">\n",
       "      <th></th>\n",
       "      <th>наименование команды/организации</th>\n",
       "      <th>стадия готовности продукта</th>\n",
       "      <th>краткое описание продукта</th>\n",
       "      <th>польза продукта</th>\n",
       "      <th>организация московского транспорта, интересная в первую очередь</th>\n",
       "      <th>запрос к акселератору и видение пилотного проекта</th>\n",
       "      <th>требуется ли сертификация продукта</th>\n",
       "      <th>фио контактного лица по заявке</th>\n",
       "      <th>должность контактного лица</th>\n",
       "      <th>контактный телефон</th>\n",
       "      <th>...</th>\n",
       "      <th>AR</th>\n",
       "      <th>Разработка</th>\n",
       "      <th>VR</th>\n",
       "      <th>ML</th>\n",
       "      <th>CV</th>\n",
       "      <th>unknown</th>\n",
       "      <th>AI</th>\n",
       "      <th>Цифровой двойник</th>\n",
       "      <th>OCR</th>\n",
       "      <th>IOT</th>\n",
       "    </tr>\n",
       "  </thead>\n",
       "  <tbody>\n",
       "    <tr>\n",
       "      <th>0</th>\n",
       "      <td>Компания НЕЙРОН</td>\n",
       "      <td>Продукт</td>\n",
       "      <td>WarRoom - система комплексной оценки и развити...</td>\n",
       "      <td>Увеличение скорости принятия решений в кризисн...</td>\n",
       "      <td>Мостранспроект</td>\n",
       "      <td>Пилотирование решения в транспортных системах ...</td>\n",
       "      <td>Нет, не требуется</td>\n",
       "      <td>-</td>\n",
       "      <td>-</td>\n",
       "      <td>+7 916 416 9899</td>\n",
       "      <td>...</td>\n",
       "      <td>False</td>\n",
       "      <td>False</td>\n",
       "      <td>False</td>\n",
       "      <td>True</td>\n",
       "      <td>False</td>\n",
       "      <td>False</td>\n",
       "      <td>True</td>\n",
       "      <td>False</td>\n",
       "      <td>False</td>\n",
       "      <td>False</td>\n",
       "    </tr>\n",
       "  </tbody>\n",
       "</table>\n",
       "<p>1 rows × 30 columns</p>\n",
       "</div>"
      ],
      "text/plain": [
       "  наименование команды/организации стадия готовности продукта  \\\n",
       "0                  Компания НЕЙРОН                    Продукт   \n",
       "\n",
       "                           краткое описание продукта  \\\n",
       "0  WarRoom - система комплексной оценки и развити...   \n",
       "\n",
       "                                     польза продукта  \\\n",
       "0  Увеличение скорости принятия решений в кризисн...   \n",
       "\n",
       "  организация московского транспорта, интересная в первую очередь  \\\n",
       "0                                     Мостранспроект                \n",
       "\n",
       "   запрос к акселератору и видение пилотного проекта  \\\n",
       "0  Пилотирование решения в транспортных системах ...   \n",
       "\n",
       "  требуется ли сертификация продукта фио контактного лица по заявке  \\\n",
       "0                  Нет, не требуется                              -   \n",
       "\n",
       "  должность контактного лица контактный телефон  ...     AR Разработка     VR  \\\n",
       "0                          -    +7 916 416 9899  ...  False      False  False   \n",
       "\n",
       "     ML     CV unknown    AI Цифровой двойник    OCR    IOT  \n",
       "0  True  False   False  True            False  False  False  \n",
       "\n",
       "[1 rows x 30 columns]"
      ]
     },
     "execution_count": 98,
     "metadata": {},
     "output_type": "execute_result"
    }
   ],
   "source": [
    "res_ds[res_ds[\"Имя\"]==\"компания_неирон\"]"
   ]
  },
  {
   "cell_type": "code",
   "execution_count": 94,
   "id": "d0b366a5-7e85-427d-a570-5e387ad4d1f0",
   "metadata": {},
   "outputs": [
    {
     "data": {
      "text/plain": [
       "'компания_нейрон'"
      ]
     },
     "execution_count": 94,
     "metadata": {},
     "output_type": "execute_result"
    }
   ],
   "source": [
    "str(res_ds[\"Имя\"].iloc[23]).replace(\"'̆\",\"\")#.replace( # == \"компания_нейрон\""
   ]
  },
  {
   "cell_type": "code",
   "execution_count": 42,
   "id": "f0f6e047-f320-4af3-89fc-f03a5c4c2756",
   "metadata": {},
   "outputs": [
    {
     "data": {
      "text/plain": [
       "True"
      ]
     },
     "execution_count": 42,
     "metadata": {},
     "output_type": "execute_result"
    }
   ],
   "source": [
    "\"компания_нейрон\" == \"компания_нейрон\""
   ]
  },
  {
   "cell_type": "code",
   "execution_count": 57,
   "id": "bb7f6bed-35e0-4454-9cc4-13ddc897cde9",
   "metadata": {},
   "outputs": [
    {
     "data": {
      "text/plain": [
       "True"
      ]
     },
     "execution_count": 57,
     "metadata": {},
     "output_type": "execute_result"
    }
   ],
   "source": [
    "str(res_ds[\"Имя\"].iloc[22])  == 'evoavatar'"
   ]
  },
  {
   "cell_type": "code",
   "execution_count": 100,
   "id": "aa346587-e8a4-49be-be07-255d627c5346",
   "metadata": {},
   "outputs": [
    {
     "ename": "KeyError",
     "evalue": "345345",
     "output_type": "error",
     "traceback": [
      "\u001b[0;31m---------------------------------------------------------------------------\u001b[0m",
      "\u001b[0;31mKeyError\u001b[0m                                  Traceback (most recent call last)",
      "\u001b[0;32m~/venv/lib/python3.6/site-packages/pandas/core/indexes/base.py\u001b[0m in \u001b[0;36mget_loc\u001b[0;34m(self, key, method, tolerance)\u001b[0m\n\u001b[1;32m   2897\u001b[0m             \u001b[0;32mtry\u001b[0m\u001b[0;34m:\u001b[0m\u001b[0;34m\u001b[0m\u001b[0;34m\u001b[0m\u001b[0m\n\u001b[0;32m-> 2898\u001b[0;31m                 \u001b[0;32mreturn\u001b[0m \u001b[0mself\u001b[0m\u001b[0;34m.\u001b[0m\u001b[0m_engine\u001b[0m\u001b[0;34m.\u001b[0m\u001b[0mget_loc\u001b[0m\u001b[0;34m(\u001b[0m\u001b[0mcasted_key\u001b[0m\u001b[0;34m)\u001b[0m\u001b[0;34m\u001b[0m\u001b[0;34m\u001b[0m\u001b[0m\n\u001b[0m\u001b[1;32m   2899\u001b[0m             \u001b[0;32mexcept\u001b[0m \u001b[0mKeyError\u001b[0m \u001b[0;32mas\u001b[0m \u001b[0merr\u001b[0m\u001b[0;34m:\u001b[0m\u001b[0;34m\u001b[0m\u001b[0;34m\u001b[0m\u001b[0m\n",
      "\u001b[0;32mpandas/_libs/index.pyx\u001b[0m in \u001b[0;36mpandas._libs.index.IndexEngine.get_loc\u001b[0;34m()\u001b[0m\n",
      "\u001b[0;32mpandas/_libs/index.pyx\u001b[0m in \u001b[0;36mpandas._libs.index.IndexEngine.get_loc\u001b[0;34m()\u001b[0m\n",
      "\u001b[0;32mpandas/_libs/index.pyx\u001b[0m in \u001b[0;36mpandas._libs.index.IndexEngine._get_loc_duplicates\u001b[0;34m()\u001b[0m\n",
      "\u001b[0;31mKeyError\u001b[0m: 345345",
      "\nThe above exception was the direct cause of the following exception:\n",
      "\u001b[0;31mKeyError\u001b[0m                                  Traceback (most recent call last)",
      "\u001b[0;32m<ipython-input-100-3294cd55b7c0>\u001b[0m in \u001b[0;36m<module>\u001b[0;34m\u001b[0m\n\u001b[0;32m----> 1\u001b[0;31m \u001b[0mres_ds\u001b[0m\u001b[0;34m.\u001b[0m\u001b[0mloc\u001b[0m\u001b[0;34m[\u001b[0m\u001b[0;36m345345\u001b[0m\u001b[0;34m]\u001b[0m\u001b[0;34m\u001b[0m\u001b[0;34m\u001b[0m\u001b[0m\n\u001b[0m",
      "\u001b[0;32m~/venv/lib/python3.6/site-packages/pandas/core/indexing.py\u001b[0m in \u001b[0;36m__getitem__\u001b[0;34m(self, key)\u001b[0m\n\u001b[1;32m    877\u001b[0m \u001b[0;34m\u001b[0m\u001b[0m\n\u001b[1;32m    878\u001b[0m             \u001b[0mmaybe_callable\u001b[0m \u001b[0;34m=\u001b[0m \u001b[0mcom\u001b[0m\u001b[0;34m.\u001b[0m\u001b[0mapply_if_callable\u001b[0m\u001b[0;34m(\u001b[0m\u001b[0mkey\u001b[0m\u001b[0;34m,\u001b[0m \u001b[0mself\u001b[0m\u001b[0;34m.\u001b[0m\u001b[0mobj\u001b[0m\u001b[0;34m)\u001b[0m\u001b[0;34m\u001b[0m\u001b[0;34m\u001b[0m\u001b[0m\n\u001b[0;32m--> 879\u001b[0;31m             \u001b[0;32mreturn\u001b[0m \u001b[0mself\u001b[0m\u001b[0;34m.\u001b[0m\u001b[0m_getitem_axis\u001b[0m\u001b[0;34m(\u001b[0m\u001b[0mmaybe_callable\u001b[0m\u001b[0;34m,\u001b[0m \u001b[0maxis\u001b[0m\u001b[0;34m=\u001b[0m\u001b[0maxis\u001b[0m\u001b[0;34m)\u001b[0m\u001b[0;34m\u001b[0m\u001b[0;34m\u001b[0m\u001b[0m\n\u001b[0m\u001b[1;32m    880\u001b[0m \u001b[0;34m\u001b[0m\u001b[0m\n\u001b[1;32m    881\u001b[0m     \u001b[0;32mdef\u001b[0m \u001b[0m_is_scalar_access\u001b[0m\u001b[0;34m(\u001b[0m\u001b[0mself\u001b[0m\u001b[0;34m,\u001b[0m \u001b[0mkey\u001b[0m\u001b[0;34m:\u001b[0m \u001b[0mTuple\u001b[0m\u001b[0;34m)\u001b[0m\u001b[0;34m:\u001b[0m\u001b[0;34m\u001b[0m\u001b[0;34m\u001b[0m\u001b[0m\n",
      "\u001b[0;32m~/venv/lib/python3.6/site-packages/pandas/core/indexing.py\u001b[0m in \u001b[0;36m_getitem_axis\u001b[0;34m(self, key, axis)\u001b[0m\n\u001b[1;32m   1108\u001b[0m         \u001b[0;31m# fall thru to straight lookup\u001b[0m\u001b[0;34m\u001b[0m\u001b[0;34m\u001b[0m\u001b[0;34m\u001b[0m\u001b[0m\n\u001b[1;32m   1109\u001b[0m         \u001b[0mself\u001b[0m\u001b[0;34m.\u001b[0m\u001b[0m_validate_key\u001b[0m\u001b[0;34m(\u001b[0m\u001b[0mkey\u001b[0m\u001b[0;34m,\u001b[0m \u001b[0maxis\u001b[0m\u001b[0;34m)\u001b[0m\u001b[0;34m\u001b[0m\u001b[0;34m\u001b[0m\u001b[0m\n\u001b[0;32m-> 1110\u001b[0;31m         \u001b[0;32mreturn\u001b[0m \u001b[0mself\u001b[0m\u001b[0;34m.\u001b[0m\u001b[0m_get_label\u001b[0m\u001b[0;34m(\u001b[0m\u001b[0mkey\u001b[0m\u001b[0;34m,\u001b[0m \u001b[0maxis\u001b[0m\u001b[0;34m=\u001b[0m\u001b[0maxis\u001b[0m\u001b[0;34m)\u001b[0m\u001b[0;34m\u001b[0m\u001b[0;34m\u001b[0m\u001b[0m\n\u001b[0m\u001b[1;32m   1111\u001b[0m \u001b[0;34m\u001b[0m\u001b[0m\n\u001b[1;32m   1112\u001b[0m     \u001b[0;32mdef\u001b[0m \u001b[0m_get_slice_axis\u001b[0m\u001b[0;34m(\u001b[0m\u001b[0mself\u001b[0m\u001b[0;34m,\u001b[0m \u001b[0mslice_obj\u001b[0m\u001b[0;34m:\u001b[0m \u001b[0mslice\u001b[0m\u001b[0;34m,\u001b[0m \u001b[0maxis\u001b[0m\u001b[0;34m:\u001b[0m \u001b[0mint\u001b[0m\u001b[0;34m)\u001b[0m\u001b[0;34m:\u001b[0m\u001b[0;34m\u001b[0m\u001b[0;34m\u001b[0m\u001b[0m\n",
      "\u001b[0;32m~/venv/lib/python3.6/site-packages/pandas/core/indexing.py\u001b[0m in \u001b[0;36m_get_label\u001b[0;34m(self, label, axis)\u001b[0m\n\u001b[1;32m   1057\u001b[0m     \u001b[0;32mdef\u001b[0m \u001b[0m_get_label\u001b[0m\u001b[0;34m(\u001b[0m\u001b[0mself\u001b[0m\u001b[0;34m,\u001b[0m \u001b[0mlabel\u001b[0m\u001b[0;34m,\u001b[0m \u001b[0maxis\u001b[0m\u001b[0;34m:\u001b[0m \u001b[0mint\u001b[0m\u001b[0;34m)\u001b[0m\u001b[0;34m:\u001b[0m\u001b[0;34m\u001b[0m\u001b[0;34m\u001b[0m\u001b[0m\n\u001b[1;32m   1058\u001b[0m         \u001b[0;31m# GH#5667 this will fail if the label is not present in the axis.\u001b[0m\u001b[0;34m\u001b[0m\u001b[0;34m\u001b[0m\u001b[0;34m\u001b[0m\u001b[0m\n\u001b[0;32m-> 1059\u001b[0;31m         \u001b[0;32mreturn\u001b[0m \u001b[0mself\u001b[0m\u001b[0;34m.\u001b[0m\u001b[0mobj\u001b[0m\u001b[0;34m.\u001b[0m\u001b[0mxs\u001b[0m\u001b[0;34m(\u001b[0m\u001b[0mlabel\u001b[0m\u001b[0;34m,\u001b[0m \u001b[0maxis\u001b[0m\u001b[0;34m=\u001b[0m\u001b[0maxis\u001b[0m\u001b[0;34m)\u001b[0m\u001b[0;34m\u001b[0m\u001b[0;34m\u001b[0m\u001b[0m\n\u001b[0m\u001b[1;32m   1060\u001b[0m \u001b[0;34m\u001b[0m\u001b[0m\n\u001b[1;32m   1061\u001b[0m     \u001b[0;32mdef\u001b[0m \u001b[0m_handle_lowerdim_multi_index_axis0\u001b[0m\u001b[0;34m(\u001b[0m\u001b[0mself\u001b[0m\u001b[0;34m,\u001b[0m \u001b[0mtup\u001b[0m\u001b[0;34m:\u001b[0m \u001b[0mTuple\u001b[0m\u001b[0;34m)\u001b[0m\u001b[0;34m:\u001b[0m\u001b[0;34m\u001b[0m\u001b[0;34m\u001b[0m\u001b[0m\n",
      "\u001b[0;32m~/venv/lib/python3.6/site-packages/pandas/core/generic.py\u001b[0m in \u001b[0;36mxs\u001b[0;34m(self, key, axis, level, drop_level)\u001b[0m\n\u001b[1;32m   3491\u001b[0m             \u001b[0mloc\u001b[0m\u001b[0;34m,\u001b[0m \u001b[0mnew_index\u001b[0m \u001b[0;34m=\u001b[0m \u001b[0mself\u001b[0m\u001b[0;34m.\u001b[0m\u001b[0mindex\u001b[0m\u001b[0;34m.\u001b[0m\u001b[0mget_loc_level\u001b[0m\u001b[0;34m(\u001b[0m\u001b[0mkey\u001b[0m\u001b[0;34m,\u001b[0m \u001b[0mdrop_level\u001b[0m\u001b[0;34m=\u001b[0m\u001b[0mdrop_level\u001b[0m\u001b[0;34m)\u001b[0m\u001b[0;34m\u001b[0m\u001b[0;34m\u001b[0m\u001b[0m\n\u001b[1;32m   3492\u001b[0m         \u001b[0;32melse\u001b[0m\u001b[0;34m:\u001b[0m\u001b[0;34m\u001b[0m\u001b[0;34m\u001b[0m\u001b[0m\n\u001b[0;32m-> 3493\u001b[0;31m             \u001b[0mloc\u001b[0m \u001b[0;34m=\u001b[0m \u001b[0mself\u001b[0m\u001b[0;34m.\u001b[0m\u001b[0mindex\u001b[0m\u001b[0;34m.\u001b[0m\u001b[0mget_loc\u001b[0m\u001b[0;34m(\u001b[0m\u001b[0mkey\u001b[0m\u001b[0;34m)\u001b[0m\u001b[0;34m\u001b[0m\u001b[0;34m\u001b[0m\u001b[0m\n\u001b[0m\u001b[1;32m   3494\u001b[0m \u001b[0;34m\u001b[0m\u001b[0m\n\u001b[1;32m   3495\u001b[0m             \u001b[0;32mif\u001b[0m \u001b[0misinstance\u001b[0m\u001b[0;34m(\u001b[0m\u001b[0mloc\u001b[0m\u001b[0;34m,\u001b[0m \u001b[0mnp\u001b[0m\u001b[0;34m.\u001b[0m\u001b[0mndarray\u001b[0m\u001b[0;34m)\u001b[0m\u001b[0;34m:\u001b[0m\u001b[0;34m\u001b[0m\u001b[0;34m\u001b[0m\u001b[0m\n",
      "\u001b[0;32m~/venv/lib/python3.6/site-packages/pandas/core/indexes/base.py\u001b[0m in \u001b[0;36mget_loc\u001b[0;34m(self, key, method, tolerance)\u001b[0m\n\u001b[1;32m   2898\u001b[0m                 \u001b[0;32mreturn\u001b[0m \u001b[0mself\u001b[0m\u001b[0;34m.\u001b[0m\u001b[0m_engine\u001b[0m\u001b[0;34m.\u001b[0m\u001b[0mget_loc\u001b[0m\u001b[0;34m(\u001b[0m\u001b[0mcasted_key\u001b[0m\u001b[0;34m)\u001b[0m\u001b[0;34m\u001b[0m\u001b[0;34m\u001b[0m\u001b[0m\n\u001b[1;32m   2899\u001b[0m             \u001b[0;32mexcept\u001b[0m \u001b[0mKeyError\u001b[0m \u001b[0;32mas\u001b[0m \u001b[0merr\u001b[0m\u001b[0;34m:\u001b[0m\u001b[0;34m\u001b[0m\u001b[0;34m\u001b[0m\u001b[0m\n\u001b[0;32m-> 2900\u001b[0;31m                 \u001b[0;32mraise\u001b[0m \u001b[0mKeyError\u001b[0m\u001b[0;34m(\u001b[0m\u001b[0mkey\u001b[0m\u001b[0;34m)\u001b[0m \u001b[0;32mfrom\u001b[0m \u001b[0merr\u001b[0m\u001b[0;34m\u001b[0m\u001b[0;34m\u001b[0m\u001b[0m\n\u001b[0m\u001b[1;32m   2901\u001b[0m \u001b[0;34m\u001b[0m\u001b[0m\n\u001b[1;32m   2902\u001b[0m         \u001b[0;32mif\u001b[0m \u001b[0mtolerance\u001b[0m \u001b[0;32mis\u001b[0m \u001b[0;32mnot\u001b[0m \u001b[0;32mNone\u001b[0m\u001b[0;34m:\u001b[0m\u001b[0;34m\u001b[0m\u001b[0;34m\u001b[0m\u001b[0m\n",
      "\u001b[0;31mKeyError\u001b[0m: 345345"
     ]
    }
   ],
   "source": [
    "res_ds.loc[345345]"
   ]
  },
  {
   "cell_type": "code",
   "execution_count": null,
   "id": "a16a139b-2020-419d-87f0-d62217626278",
   "metadata": {},
   "outputs": [],
   "source": []
  }
 ],
 "metadata": {
  "kernelspec": {
   "display_name": "Python 3",
   "language": "python",
   "name": "python3"
  },
  "language_info": {
   "codemirror_mode": {
    "name": "ipython",
    "version": 3
   },
   "file_extension": ".py",
   "mimetype": "text/x-python",
   "name": "python",
   "nbconvert_exporter": "python",
   "pygments_lexer": "ipython3",
   "version": "3.6.9"
  }
 },
 "nbformat": 4,
 "nbformat_minor": 5
}
