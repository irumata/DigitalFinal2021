{
 "cells": [
  {
   "cell_type": "code",
   "execution_count": 2,
   "id": "e81bb4ee-33a8-47d3-b3fc-c85de3c3583d",
   "metadata": {},
   "outputs": [
    {
     "data": {
      "text/plain": [
       "['data.j']"
      ]
     },
     "execution_count": 2,
     "metadata": {},
     "output_type": "execute_result"
    }
   ],
   "source": [
    "import docx\n",
    "from docx import Document\n",
    "from docx.table import _Cell\n",
    "\n",
    "import pandas as pd\n",
    "\n",
    "import os\n",
    "\n",
    "file_names = os.listdir(f\"solutions/\")\n",
    "\n",
    "files = {}\n",
    "res_ds = pd.DataFrame()\n",
    "for file in file_names:\n",
    "        filepath = f\"solutions/{file}\"\n",
    "        if not os.path.isfile(filepath):\n",
    "            continue\n",
    "        try:\n",
    "            document = Document(filepath)\n",
    "        except:\n",
    "            print(\"PROBLEM IN FILE \",filepath)\n",
    "        full_text = []\n",
    "        for para in document.paragraphs:\n",
    "            full_text.append(para.text)\n",
    "        full_text = '\\n'.join(full_text)\n",
    "        files[file] = {}\n",
    "        files[file][\"text\"]=full_text\n",
    "        files[file][\"tables\"]=document.tables\n",
    "        table = document.tables[0]\n",
    "        #files[list(files.keys())[0]][\"tables\"][0]\n",
    "        sol_dict = {}\n",
    "        for rowIndex, row in enumerate(table.rows):\n",
    "                cols = []\n",
    "                for columnIndex, value in enumerate([_Cell(tc, table) \n",
    "                                                     for tc in row._tr.tc_lst]):\n",
    "                    cols.append(value.text)\n",
    "                sol_dict[cols[0].split(\"*\")[0].strip().lower()] = [cols[1]]\n",
    "        res_ds = pd.concat([res_ds,pd.DataFrame(sol_dict)])\n",
    "res_ds\n",
    "import joblib\n",
    "joblib.dump(res_ds,\"data.j\",compress=0)"
   ]
  },
  {
   "cell_type": "code",
   "execution_count": 3,
   "id": "b5b8b015-face-4817-8c5f-7c373ce6aa1b",
   "metadata": {},
   "outputs": [
    {
     "data": {
      "text/html": [
       "<div>\n",
       "<style scoped>\n",
       "    .dataframe tbody tr th:only-of-type {\n",
       "        vertical-align: middle;\n",
       "    }\n",
       "\n",
       "    .dataframe tbody tr th {\n",
       "        vertical-align: top;\n",
       "    }\n",
       "\n",
       "    .dataframe thead th {\n",
       "        text-align: right;\n",
       "    }\n",
       "</style>\n",
       "<table border=\"1\" class=\"dataframe\">\n",
       "  <thead>\n",
       "    <tr style=\"text-align: right;\">\n",
       "      <th></th>\n",
       "      <th>наименование команды/организации</th>\n",
       "      <th>стадия готовности продукта</th>\n",
       "      <th>краткое описание продукта</th>\n",
       "      <th>польза продукта</th>\n",
       "      <th>организация московского транспорта, интересная в первую очередь</th>\n",
       "      <th>запрос к акселератору и видение пилотного проекта</th>\n",
       "      <th>требуется ли сертификация продукта</th>\n",
       "      <th>фио контактного лица по заявке</th>\n",
       "      <th>должность контактного лица</th>\n",
       "      <th>контактный телефон</th>\n",
       "      <th>контактная почта</th>\n",
       "      <th>наименование юридического лица</th>\n",
       "      <th>инн юридического лица</th>\n",
       "      <th>сколько человек в организации</th>\n",
       "      <th>сайт</th>\n",
       "      <th>откуда узнали про акселератор</th>\n",
       "      <th>ссылка на презентацию</th>\n",
       "    </tr>\n",
       "  </thead>\n",
       "  <tbody>\n",
       "    <tr>\n",
       "      <th>0</th>\n",
       "      <td>BIOSMART</td>\n",
       "      <td>Продукт</td>\n",
       "      <td>PALM JET – сканер бесконтактной идентификации ...</td>\n",
       "      <td>Ускорение процесса идентификация человека</td>\n",
       "      <td>Московский метрополитен</td>\n",
       "      <td>Помощь в ведении проекта, его продвижение в СМ...</td>\n",
       "      <td>да, требуется сертификация и у нас она есть</td>\n",
       "      <td>Александр Дремин</td>\n",
       "      <td>Генеральный директор</td>\n",
       "      <td></td>\n",
       "      <td>sale@bio-smart.ru</td>\n",
       "      <td>ОБЩЕСТВО С ОГРАНИЧЕННОЙ ОТВЕТСТВЕННОСТЬЮ \"БИОС...</td>\n",
       "      <td>7702452466</td>\n",
       "      <td>От 20 до 100</td>\n",
       "      <td>https://bio-smart.ru/</td>\n",
       "      <td>СМИ</td>\n",
       "      <td>https://bio-smart.ru/o-kompanii</td>\n",
       "    </tr>\n",
       "    <tr>\n",
       "      <th>0</th>\n",
       "      <td>Vizorlabs</td>\n",
       "      <td>Продукт</td>\n",
       "      <td>Мы специализируемся на создании решений позвол...</td>\n",
       "      <td>Контроль за соблюдение ношения СИЗ в метро</td>\n",
       "      <td>Московский метрополитен; Мосгортранс</td>\n",
       "      <td>Помощь в популяризации решения; Инвестиации.</td>\n",
       "      <td>нет, не требуется</td>\n",
       "      <td></td>\n",
       "      <td></td>\n",
       "      <td></td>\n",
       "      <td>\\n</td>\n",
       "      <td>ОБЩЕСТВО С ОГРАНИЧЕННОЙ ОТВЕТСТВЕННОСТЬЮ \"ВИЗО...</td>\n",
       "      <td>7731395981</td>\n",
       "      <td>Менее 20</td>\n",
       "      <td>https://www.vizorlabs.ru/</td>\n",
       "      <td>Площадка ТИМ</td>\n",
       "      <td>https://www.vizorlabs.ru/company/</td>\n",
       "    </tr>\n",
       "  </tbody>\n",
       "</table>\n",
       "</div>"
      ],
      "text/plain": [
       "  наименование команды/организации стадия готовности продукта  \\\n",
       "0                         BIOSMART                    Продукт   \n",
       "0                        Vizorlabs                    Продукт   \n",
       "\n",
       "                           краткое описание продукта  \\\n",
       "0  PALM JET – сканер бесконтактной идентификации ...   \n",
       "0  Мы специализируемся на создании решений позвол...   \n",
       "\n",
       "                              польза продукта  \\\n",
       "0   Ускорение процесса идентификация человека   \n",
       "0  Контроль за соблюдение ношения СИЗ в метро   \n",
       "\n",
       "  организация московского транспорта, интересная в первую очередь  \\\n",
       "0                            Московский метрополитен                \n",
       "0               Московский метрополитен; Мосгортранс                \n",
       "\n",
       "   запрос к акселератору и видение пилотного проекта  \\\n",
       "0  Помощь в ведении проекта, его продвижение в СМ...   \n",
       "0      Помощь в популяризации решения; Инвестиации.    \n",
       "\n",
       "            требуется ли сертификация продукта фио контактного лица по заявке  \\\n",
       "0  да, требуется сертификация и у нас она есть               Александр Дремин   \n",
       "0                            нет, не требуется                                  \n",
       "\n",
       "  должность контактного лица контактный телефон   контактная почта  \\\n",
       "0       Генеральный директор                     sale@bio-smart.ru   \n",
       "0                                                               \\n   \n",
       "\n",
       "                      наименование юридического лица инн юридического лица  \\\n",
       "0  ОБЩЕСТВО С ОГРАНИЧЕННОЙ ОТВЕТСТВЕННОСТЬЮ \"БИОС...            7702452466   \n",
       "0  ОБЩЕСТВО С ОГРАНИЧЕННОЙ ОТВЕТСТВЕННОСТЬЮ \"ВИЗО...            7731395981   \n",
       "\n",
       "  сколько человек в организации                       сайт  \\\n",
       "0                  От 20 до 100      https://bio-smart.ru/   \n",
       "0                      Менее 20  https://www.vizorlabs.ru/   \n",
       "\n",
       "  откуда узнали про акселератор              ссылка на презентацию  \n",
       "0                           СМИ    https://bio-smart.ru/o-kompanii  \n",
       "0                  Площадка ТИМ  https://www.vizorlabs.ru/company/  "
      ]
     },
     "execution_count": 3,
     "metadata": {},
     "output_type": "execute_result"
    }
   ],
   "source": [
    "res_ds"
   ]
  },
  {
   "cell_type": "code",
   "execution_count": 48,
   "id": "5b409f68-8755-4207-9f13-6c46209583bd",
   "metadata": {},
   "outputs": [
    {
     "data": {
      "text/plain": [
       "20"
      ]
     },
     "execution_count": 48,
     "metadata": {},
     "output_type": "execute_result"
    }
   ],
   "source": [
    "import re\n",
    "for i,row in enumerate(res_ds.iterrows()):\n",
    "    r = dict(row[1])\n",
    "    break\n"
   ]
  },
  {
   "cell_type": "code",
   "execution_count": 56,
   "id": "1ce963a4-27b1-4b4f-afc5-4cad8ef48603",
   "metadata": {},
   "outputs": [
    {
     "data": {
      "text/plain": [
       "3"
      ]
     },
     "execution_count": 56,
     "metadata": {},
     "output_type": "execute_result"
    }
   ],
   "source": [
    "import random\n"
   ]
  },
  {
   "cell_type": "code",
   "execution_count": 58,
   "id": "77ff2474-8377-44d1-b2c9-bbb7ff6b6c0f",
   "metadata": {},
   "outputs": [
    {
     "name": "stdout",
     "output_type": "stream",
     "text": [
      "200 {'28': 17, '16': 1, '19': 1, '31': 1}\n",
      "200 помочь решить существующую задачу\n",
      "200 на повторный скаутинг решений / технологий\n"
     ]
    }
   ],
   "source": [
    "import api_client"
   ]
  },
  {
   "cell_type": "code",
   "execution_count": null,
   "id": "f0878f30-a3bf-4b4c-8084-da8e8ccc81f1",
   "metadata": {},
   "outputs": [],
   "source": []
  }
 ],
 "metadata": {
  "kernelspec": {
   "display_name": "Python 3",
   "language": "python",
   "name": "python3"
  },
  "language_info": {
   "codemirror_mode": {
    "name": "ipython",
    "version": 3
   },
   "file_extension": ".py",
   "mimetype": "text/x-python",
   "name": "python",
   "nbconvert_exporter": "python",
   "pygments_lexer": "ipython3",
   "version": "3.6.9"
  }
 },
 "nbformat": 4,
 "nbformat_minor": 5
}
